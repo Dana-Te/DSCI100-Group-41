{
 "cells": [
  {
   "cell_type": "markdown",
   "id": "2b370db1-4f04-45fb-9156-bd4f3224f2c0",
   "metadata": {},
   "source": [
    "Speciific requirements for the report\n",
    "Each group will create a final electronic report (max 2000 written words, not including citations) using Jupyter to communicate the question asked, the analysis performed and the conclusion reached.\n",
    "\n",
    "You must submit 2 files:\n",
    "\n",
    "the source Jupyter notebook (.ipynb file)\n",
    "the rendered final document (.html file) \n",
    "\n",
    "Each report should include the following sections:\n",
    "**Title**\n",
    "\n",
    "**Introduction:**\n",
    "\n",
    "-provide some relevant background information on the topic so that someone unfamiliar with it will be prepared to understand the rest of your report\n",
    "\n",
    "-clearly state the question you tried to answer with your project\n",
    "\n",
    "-identify and describe the dataset that was used to answer the question\n",
    "\n",
    "\n",
    "**Methods & Results:**\n",
    "\n",
    "-describe in written English the methods you used to perform your analysis from beginning to end that narrates the code the does the analysis.\n",
    "\n",
    "-your report should include code which:\n",
    "\n",
    "    -loads data from the original source on the web \n",
    "    -wrangles and cleans the data from it's original (downloaded) format to the format necessary for the planned analysis\n",
    "    -performs a summary of the data set that is relevant for exploratory data analysis related to the planned analysis \n",
    "    -creates a visualization of the dataset that is relevant for exploratory data analysis related to the planned analysis\n",
    "    -performs the data analysis\n",
    "    -creates a visualization of the analysis \n",
    "    \n",
    "note: all tables and figure should have a figure/table number and a legend\n",
    "\n",
    "**Discussion:**\n",
    "\n",
    "-summarize what you found\n",
    "\n",
    "-discuss whether this is what you expected to find?\n",
    "\n",
    "-discuss what impact could such findings have?\n",
    "\n",
    "-discuss what future questions could this lead to?\n",
    "\n",
    "**References**\n",
    "\n",
    "-At least 2 citations of literature relevant to the project (format is your choice, just be consistent across the references).\n",
    "\n",
    "-Make sure to cite the source of your data as well.\n",
    "\n",
    "hint - you can use your proposal as a basis for your final report"
   ]
  },
  {
   "cell_type": "code",
   "execution_count": null,
   "id": "5ea4d604-bcf8-49fa-95b9-2ba73f21113a",
   "metadata": {},
   "outputs": [],
   "source": []
  }
 ],
 "metadata": {
  "kernelspec": {
   "display_name": "R",
   "language": "R",
   "name": "ir"
  },
  "language_info": {
   "codemirror_mode": "r",
   "file_extension": ".r",
   "mimetype": "text/x-r-source",
   "name": "R",
   "pygments_lexer": "r",
   "version": "4.3.1"
  }
 },
 "nbformat": 4,
 "nbformat_minor": 5
}
