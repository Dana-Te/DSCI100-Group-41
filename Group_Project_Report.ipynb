{
 "cells": [
  {
   "cell_type": "markdown",
   "id": "2b370db1-4f04-45fb-9156-bd4f3224f2c0",
   "metadata": {},
   "source": [
    "Speciific requirements for the report\n",
    "Each group will create a final electronic report (max 2000 written words, not including citations) using Jupyter to communicate the question asked, the analysis performed and the conclusion reached.\n",
    "\n",
    "You must submit 2 files:\n",
    "\n",
    "the source Jupyter notebook (.ipynb file)\n",
    "the rendered final document (.html file) \n",
    "\n",
    "Each report should include the following sections:\n"
   ]
  },
  {
   "cell_type": "markdown",
   "id": "ff23d108-ad60-48ed-ba41-72bd26492ce6",
   "metadata": {},
   "source": [
    "**Title**\n",
    "\n",
    "**Introduction:**\n",
    "\n",
    "-provide some relevant background information on the topic so that someone unfamiliar with it will be prepared to understand the rest of your report\n",
    "\n",
    "-clearly state the question you tried to answer with your project\n",
    "\n",
    "-identify and describe the dataset that was used to answer the question"
   ]
  },
  {
   "cell_type": "markdown",
   "id": "0dbd454e-e219-456a-877b-6b900ec9b9b3",
   "metadata": {},
   "source": [
    "**Methods & Results:**\n",
    "\n",
    "-describe in written English the methods you used to perform your analysis from beginning to end that narrates the code the does the analysis.\n",
    "\n",
    "-your report should include code which:\n",
    "\n",
    "    -loads data from the original source on the web \n",
    "    -wrangles and cleans the data from it's original (downloaded) format to the format necessary for the planned analysis\n",
    "    -performs a summary of the data set that is relevant for exploratory data analysis related to the planned analysis \n",
    "    -creates a visualization of the dataset that is relevant for exploratory data analysis related to the planned analysis\n",
    "    -performs the data analysis\n",
    "    -creates a visualization of the analysis \n",
    "    \n",
    "note: all tables and figure should have a figure/table number and a legend"
   ]
  },
  {
   "cell_type": "markdown",
   "id": "fb43a66e-7f6f-4ef9-9aef-c71405351460",
   "metadata": {},
   "source": [
    "- Loading libraries\n"
   ]
  },
  {
   "cell_type": "code",
   "execution_count": 2,
   "id": "8311721d-7582-4845-9d5a-165902adf334",
   "metadata": {},
   "outputs": [
    {
     "name": "stderr",
     "output_type": "stream",
     "text": [
      "Warning message:\n",
      "“package ‘ggplot2’ was built under R version 4.3.2”\n",
      "── \u001b[1mAttaching core tidyverse packages\u001b[22m ──────────────────────── tidyverse 2.0.0 ──\n",
      "\u001b[32m✔\u001b[39m \u001b[34mdplyr    \u001b[39m 1.1.3     \u001b[32m✔\u001b[39m \u001b[34mreadr    \u001b[39m 2.1.4\n",
      "\u001b[32m✔\u001b[39m \u001b[34mforcats  \u001b[39m 1.0.0     \u001b[32m✔\u001b[39m \u001b[34mstringr  \u001b[39m 1.5.0\n",
      "\u001b[32m✔\u001b[39m \u001b[34mggplot2  \u001b[39m 3.5.0     \u001b[32m✔\u001b[39m \u001b[34mtibble   \u001b[39m 3.2.1\n",
      "\u001b[32m✔\u001b[39m \u001b[34mlubridate\u001b[39m 1.9.2     \u001b[32m✔\u001b[39m \u001b[34mtidyr    \u001b[39m 1.3.0\n",
      "\u001b[32m✔\u001b[39m \u001b[34mpurrr    \u001b[39m 1.0.2     \n",
      "── \u001b[1mConflicts\u001b[22m ────────────────────────────────────────── tidyverse_conflicts() ──\n",
      "\u001b[31m✖\u001b[39m \u001b[34mdplyr\u001b[39m::\u001b[32mfilter()\u001b[39m masks \u001b[34mstats\u001b[39m::filter()\n",
      "\u001b[31m✖\u001b[39m \u001b[34mdplyr\u001b[39m::\u001b[32mlag()\u001b[39m    masks \u001b[34mstats\u001b[39m::lag()\n",
      "\u001b[36mℹ\u001b[39m Use the conflicted package (\u001b[3m\u001b[34m<http://conflicted.r-lib.org/>\u001b[39m\u001b[23m) to force all conflicts to become errors\n",
      "── \u001b[1mAttaching packages\u001b[22m ────────────────────────────────────── tidymodels 1.1.1 ──\n",
      "\n",
      "\u001b[32m✔\u001b[39m \u001b[34mbroom       \u001b[39m 1.0.5     \u001b[32m✔\u001b[39m \u001b[34mrsample     \u001b[39m 1.2.0\n",
      "\u001b[32m✔\u001b[39m \u001b[34mdials       \u001b[39m 1.2.0     \u001b[32m✔\u001b[39m \u001b[34mtune        \u001b[39m 1.1.2\n",
      "\u001b[32m✔\u001b[39m \u001b[34minfer       \u001b[39m 1.0.5     \u001b[32m✔\u001b[39m \u001b[34mworkflows   \u001b[39m 1.1.3\n",
      "\u001b[32m✔\u001b[39m \u001b[34mmodeldata   \u001b[39m 1.2.0     \u001b[32m✔\u001b[39m \u001b[34mworkflowsets\u001b[39m 1.0.1\n",
      "\u001b[32m✔\u001b[39m \u001b[34mparsnip     \u001b[39m 1.1.1     \u001b[32m✔\u001b[39m \u001b[34myardstick   \u001b[39m 1.2.0\n",
      "\u001b[32m✔\u001b[39m \u001b[34mrecipes     \u001b[39m 1.0.8     \n",
      "\n",
      "── \u001b[1mConflicts\u001b[22m ───────────────────────────────────────── tidymodels_conflicts() ──\n",
      "\u001b[31m✖\u001b[39m \u001b[34mscales\u001b[39m::\u001b[32mdiscard()\u001b[39m masks \u001b[34mpurrr\u001b[39m::discard()\n",
      "\u001b[31m✖\u001b[39m \u001b[34mdplyr\u001b[39m::\u001b[32mfilter()\u001b[39m   masks \u001b[34mstats\u001b[39m::filter()\n",
      "\u001b[31m✖\u001b[39m \u001b[34mrecipes\u001b[39m::\u001b[32mfixed()\u001b[39m  masks \u001b[34mstringr\u001b[39m::fixed()\n",
      "\u001b[31m✖\u001b[39m \u001b[34mdplyr\u001b[39m::\u001b[32mlag()\u001b[39m      masks \u001b[34mstats\u001b[39m::lag()\n",
      "\u001b[31m✖\u001b[39m \u001b[34myardstick\u001b[39m::\u001b[32mspec()\u001b[39m masks \u001b[34mreadr\u001b[39m::spec()\n",
      "\u001b[31m✖\u001b[39m \u001b[34mrecipes\u001b[39m::\u001b[32mstep()\u001b[39m   masks \u001b[34mstats\u001b[39m::step()\n",
      "\u001b[34m•\u001b[39m Use \u001b[32mtidymodels_prefer()\u001b[39m to resolve common conflicts.\n",
      "\n"
     ]
    }
   ],
   "source": [
    "library(repr)\n",
    "library(tidyverse)\n",
    "library(tidymodels)\n",
    "library(readxl)"
   ]
  },
  {
   "cell_type": "markdown",
   "id": "af76d187-db97-41a3-8ed8-cfe3c97eaf52",
   "metadata": {},
   "source": [
    "- Reading files from the web"
   ]
  },
  {
   "cell_type": "code",
   "execution_count": null,
   "id": "96b56f97-fcc1-406b-9390-c2583d0db44d",
   "metadata": {},
   "outputs": [],
   "source": [
    "download.file(\"https://raw.githubusercontent.com/Dana-Te/DSCI-100-G41-Apples-Data-Set/main/apple_quality.csv\", \"apple_quality.csv\")\n",
    "Apple_data<- read_csv(\"apple_quality.csv\")\n",
    "Apple_data"
   ]
  },
  {
   "cell_type": "markdown",
   "id": "29fab1df-ead9-4e55-9800-80812ad55d96",
   "metadata": {},
   "source": [
    "- Cleaned & wrangled data into a tidy table for use"
   ]
  },
  {
   "cell_type": "code",
   "execution_count": null,
   "id": "1caca5f2-9414-4db0-8212-8fcf94c0e6b8",
   "metadata": {},
   "outputs": [],
   "source": [
    "Apple_data_wrangled<- Apple_data|>\n",
    "    filter(A_id!=\"NA\")|>\n",
    "    select(Size:Quality)|>\n",
    "    mutate(Acidity=as.character(Acidity))\n",
    "\n",
    "Apple_data_wrangled\n",
    "\n",
    "Apple_data_mean<- Apple_data_wrangled|>\n",
    "    select(Size:Acidity)|>\n",
    "    mutate(Acidity=as.numeric(Acidity))|>\n",
    "    map_df(mean, na.rm=TRUE)\n",
    "\n",
    "Apple_data_quality<-Apple_data|>\n",
    "    filter(A_id!=\"NA\")|>\n",
    "    select(Quality)|>\n",
    "    group_by(Quality) |> \n",
    "    summarise(Count = n())|>\n",
    "    pivot_wider(names_from=Quality, values_from=Count)\n",
    "\n",
    "Merge<- cross_join(Apple_data_mean, Apple_data_quality)\n",
    "Merge\n",
    "\n",
    "#The 'Merge' table consists of the mean for all the variables (Size to Ripeness), \n",
    "#and the number of rows in each classification from Quality( bad or good).\n",
    "#The data was already tidy and needed not much wrangling."
   ]
  },
  {
   "cell_type": "markdown",
   "id": "127eb755-e6d3-48e2-8c45-d0f4c48803c2",
   "metadata": {},
   "source": [
    "**Discussion:**\n",
    "\n",
    "-summarize what you found\n",
    "\n",
    "-discuss whether this is what you expected to find?\n",
    "\n",
    "-discuss what impact could such findings have?\n",
    "\n",
    "-discuss what future questions could this lead to?"
   ]
  },
  {
   "cell_type": "markdown",
   "id": "c72c1a30-bc62-447b-9670-523f88a16860",
   "metadata": {},
   "source": [
    "**References**\n",
    "\n",
    "-At least 2 citations of literature relevant to the project (format is your choice, just be consistent across the references).\n",
    "\n",
    "-Make sure to cite the source of your data as well.\n",
    "\n",
    "hint - you can use your proposal as a basis for your final report"
   ]
  },
  {
   "cell_type": "code",
   "execution_count": null,
   "id": "05940dc9-ff29-4dd0-9916-28d92d975142",
   "metadata": {},
   "outputs": [],
   "source": []
  }
 ],
 "metadata": {
  "kernelspec": {
   "display_name": "R",
   "language": "R",
   "name": "ir"
  },
  "language_info": {
   "codemirror_mode": "r",
   "file_extension": ".r",
   "mimetype": "text/x-r-source",
   "name": "R",
   "pygments_lexer": "r",
   "version": "4.3.1"
  }
 },
 "nbformat": 4,
 "nbformat_minor": 5
}
