{
 "cells": [
  {
   "cell_type": "markdown",
   "id": "36172621-22bc-4008-82f5-f1b71eb13f2e",
   "metadata": {},
   "source": [
    "DSCI 100 Group 41 Proposal"
   ]
  },
  {
   "cell_type": "markdown",
   "id": "53b5b6fa-6fac-4d5b-86c4-50f58218bbd4",
   "metadata": {},
   "source": [
    "Title:"
   ]
  },
  {
   "cell_type": "markdown",
   "id": "d04a34c7-d5ec-4703-8d66-e0e8c8f9b4f3",
   "metadata": {},
   "source": [
    "Introduction:\n",
    "\n",
    "Provide some relevant background information on the topic so that someone unfamiliar with it will be prepared to understand the rest of your proposal\n",
    "\n",
    "-Clearly state the question you will try to answer with your project\n",
    "\n",
    "-Identify and describe the dataset that will be used to answer the question"
   ]
  },
  {
   "cell_type": "markdown",
   "id": "57259799-d769-46ce-afdb-30bb80bb1d43",
   "metadata": {},
   "source": [
    "Preliminary exploratory data analysis:\n",
    "\n",
    "-Demonstrate that the dataset can be read from the web into R \n",
    "\n",
    "-Clean and wrangle your data into a tidy format\n",
    "\n",
    "-Using only training data, summarize the data in at least one table (this is exploratory data analysis). An example of a useful table \n",
    "could be one that reports the number of observations in each class, the means of the predictor variables you plan to use in your analysis and how many rows have missing data. \n",
    "\n",
    "-Using only training data, visualize the data with at least one plot relevant to the analysis you plan to do (this is exploratory data analysis). An example of a useful visualization could be one that compares the distributions of each of the predictor variables you plan to use in your analysis."
   ]
  },
  {
   "cell_type": "markdown",
   "id": "99c6f885-9c62-48f3-92eb-18c47d535b2c",
   "metadata": {},
   "source": [
    "Methods:\n",
    "\n",
    "-Explain how you will conduct either your data analysis and which variables/columns you will use. Note - you do not need to use all \n",
    "variables/columns that exist in the raw data set. In fact, that's often not a good idea. For each variable think: is this a useful variable for prediction?\n",
    "\n",
    "-Describe at least one way that you will visualize the results\n"
   ]
  },
  {
   "cell_type": "markdown",
   "id": "3e83ed9a-9117-469f-bf17-fa4577d893aa",
   "metadata": {},
   "source": [
    "Expected outcomes and significance:\n",
    "\n",
    "-What do you expect to find?\n",
    "\n",
    "-What impact could such findings have?\n",
    "\n",
    "-What future questions could this lead to?"
   ]
  },
  {
   "cell_type": "code",
   "execution_count": 7,
   "id": "948ff944-d1a7-4405-bd35-b341bb917f96",
   "metadata": {},
   "outputs": [],
   "source": [
    "library(repr)\n",
    "library(tidyverse)\n",
    "library(tidymodels)\n",
    "library(readxl)\n"
   ]
  },
  {
   "cell_type": "code",
   "execution_count": 17,
   "id": "3039620f-e9f2-416e-8962-33670822d285",
   "metadata": {},
   "outputs": [
    {
     "data": {
      "text/html": [
       "<table class=\"dataframe\">\n",
       "<caption>A tibble: 49 × 12</caption>\n",
       "<thead>\n",
       "\t<tr><th scope=col>Location</th><th scope=col>Number of Households (in 1000)</th><th scope=col>Percentage of households with pets</th><th scope=col>Number of Pet Households (in 1000)</th><th scope=col>Percentage of Dog Owners</th><th scope=col>Dog Owning Households (1000s)</th><th scope=col>Mean Number of Dogs per household</th><th scope=col>Dog Population (in 1000)</th><th scope=col>Percentage of Cat Owners</th><th scope=col>Cat Owning Households</th><th scope=col>Mean Number of Cats</th><th scope=col>Cat Population</th></tr>\n",
       "\t<tr><th scope=col>&lt;chr&gt;</th><th scope=col>&lt;dbl&gt;</th><th scope=col>&lt;dbl&gt;</th><th scope=col>&lt;dbl&gt;</th><th scope=col>&lt;dbl&gt;</th><th scope=col>&lt;dbl&gt;</th><th scope=col>&lt;dbl&gt;</th><th scope=col>&lt;dbl&gt;</th><th scope=col>&lt;dbl&gt;</th><th scope=col>&lt;dbl&gt;</th><th scope=col>&lt;dbl&gt;</th><th scope=col>&lt;dbl&gt;</th></tr>\n",
       "</thead>\n",
       "<tbody>\n",
       "\t<tr><td>Alabama   </td><td> 1828</td><td>59.5</td><td>1088</td><td>44.1</td><td> 807</td><td>1.7</td><td>1410</td><td>27.4</td><td> 501</td><td>2.5</td><td>1252</td></tr>\n",
       "\t<tr><td>Arizona   </td><td> 2515</td><td>59.5</td><td>1497</td><td>40.1</td><td>1008</td><td>1.8</td><td>1798</td><td>29.6</td><td> 743</td><td>1.9</td><td>1438</td></tr>\n",
       "\t<tr><td>Arkansas  </td><td> 1148</td><td>62.4</td><td> 716</td><td>47.9</td><td> 550</td><td>2.0</td><td>1097</td><td>30.6</td><td> 351</td><td>2.3</td><td> 810</td></tr>\n",
       "\t<tr><td>California</td><td>12974</td><td>52.9</td><td>6865</td><td>32.8</td><td>4260</td><td>1.6</td><td>6687</td><td>28.3</td><td>3687</td><td>1.9</td><td>7118</td></tr>\n",
       "\t<tr><td>Colorado  </td><td> 1986</td><td>61.3</td><td>1217</td><td>42.5</td><td> 845</td><td>1.6</td><td>1349</td><td>32.3</td><td> 642</td><td>1.9</td><td>1191</td></tr>\n",
       "\t<tr><td>⋮</td><td>⋮</td><td>⋮</td><td>⋮</td><td>⋮</td><td>⋮</td><td>⋮</td><td>⋮</td><td>⋮</td><td>⋮</td><td>⋮</td><td>⋮</td></tr>\n",
       "\t<tr><td>Virginia     </td><td>3017</td><td>53.4</td><td>1611</td><td>35.4</td><td>1069</td><td>1.6</td><td>1699</td><td>29.0</td><td> 876</td><td>2.1</td><td>1855</td></tr>\n",
       "\t<tr><td>Washington   </td><td>2632</td><td>62.7</td><td>1649</td><td>36.3</td><td> 954</td><td>1.7</td><td>1609</td><td>39.0</td><td>1028</td><td>1.8</td><td>1844</td></tr>\n",
       "\t<tr><td>West Virginia</td><td> 765</td><td>62.1</td><td> 475</td><td>45.8</td><td> 350</td><td>1.8</td><td> 648</td><td>38.1</td><td> 291</td><td>2.2</td><td> 628</td></tr>\n",
       "\t<tr><td>Wisconsin    </td><td>2350</td><td>57.5</td><td>1352</td><td>33.9</td><td> 796</td><td>1.4</td><td>1138</td><td>33.0</td><td> 776</td><td>1.9</td><td>1510</td></tr>\n",
       "\t<tr><td>Wyoming      </td><td> 221</td><td>61.8</td><td> 137</td><td>38.8</td><td>  86</td><td>1.5</td><td> 125</td><td>33.9</td><td>  75</td><td>1.9</td><td> 144</td></tr>\n",
       "</tbody>\n",
       "</table>\n"
      ],
      "text/latex": [
       "A tibble: 49 × 12\n",
       "\\begin{tabular}{llllllllllll}\n",
       " Location & Number of Households (in 1000) & Percentage of households with pets & Number of Pet Households (in 1000) & Percentage of Dog Owners & Dog Owning Households (1000s) & Mean Number of Dogs per household & Dog Population (in 1000) & Percentage of Cat Owners & Cat Owning Households & Mean Number of Cats & Cat Population\\\\\n",
       " <chr> & <dbl> & <dbl> & <dbl> & <dbl> & <dbl> & <dbl> & <dbl> & <dbl> & <dbl> & <dbl> & <dbl>\\\\\n",
       "\\hline\n",
       "\t Alabama    &  1828 & 59.5 & 1088 & 44.1 &  807 & 1.7 & 1410 & 27.4 &  501 & 2.5 & 1252\\\\\n",
       "\t Arizona    &  2515 & 59.5 & 1497 & 40.1 & 1008 & 1.8 & 1798 & 29.6 &  743 & 1.9 & 1438\\\\\n",
       "\t Arkansas   &  1148 & 62.4 &  716 & 47.9 &  550 & 2.0 & 1097 & 30.6 &  351 & 2.3 &  810\\\\\n",
       "\t California & 12974 & 52.9 & 6865 & 32.8 & 4260 & 1.6 & 6687 & 28.3 & 3687 & 1.9 & 7118\\\\\n",
       "\t Colorado   &  1986 & 61.3 & 1217 & 42.5 &  845 & 1.6 & 1349 & 32.3 &  642 & 1.9 & 1191\\\\\n",
       "\t ⋮ & ⋮ & ⋮ & ⋮ & ⋮ & ⋮ & ⋮ & ⋮ & ⋮ & ⋮ & ⋮ & ⋮\\\\\n",
       "\t Virginia      & 3017 & 53.4 & 1611 & 35.4 & 1069 & 1.6 & 1699 & 29.0 &  876 & 2.1 & 1855\\\\\n",
       "\t Washington    & 2632 & 62.7 & 1649 & 36.3 &  954 & 1.7 & 1609 & 39.0 & 1028 & 1.8 & 1844\\\\\n",
       "\t West Virginia &  765 & 62.1 &  475 & 45.8 &  350 & 1.8 &  648 & 38.1 &  291 & 2.2 &  628\\\\\n",
       "\t Wisconsin     & 2350 & 57.5 & 1352 & 33.9 &  796 & 1.4 & 1138 & 33.0 &  776 & 1.9 & 1510\\\\\n",
       "\t Wyoming       &  221 & 61.8 &  137 & 38.8 &   86 & 1.5 &  125 & 33.9 &   75 & 1.9 &  144\\\\\n",
       "\\end{tabular}\n"
      ],
      "text/markdown": [
       "\n",
       "A tibble: 49 × 12\n",
       "\n",
       "| Location &lt;chr&gt; | Number of Households (in 1000) &lt;dbl&gt; | Percentage of households with pets &lt;dbl&gt; | Number of Pet Households (in 1000) &lt;dbl&gt; | Percentage of Dog Owners &lt;dbl&gt; | Dog Owning Households (1000s) &lt;dbl&gt; | Mean Number of Dogs per household &lt;dbl&gt; | Dog Population (in 1000) &lt;dbl&gt; | Percentage of Cat Owners &lt;dbl&gt; | Cat Owning Households &lt;dbl&gt; | Mean Number of Cats &lt;dbl&gt; | Cat Population &lt;dbl&gt; |\n",
       "|---|---|---|---|---|---|---|---|---|---|---|---|\n",
       "| Alabama    |  1828 | 59.5 | 1088 | 44.1 |  807 | 1.7 | 1410 | 27.4 |  501 | 2.5 | 1252 |\n",
       "| Arizona    |  2515 | 59.5 | 1497 | 40.1 | 1008 | 1.8 | 1798 | 29.6 |  743 | 1.9 | 1438 |\n",
       "| Arkansas   |  1148 | 62.4 |  716 | 47.9 |  550 | 2.0 | 1097 | 30.6 |  351 | 2.3 |  810 |\n",
       "| California | 12974 | 52.9 | 6865 | 32.8 | 4260 | 1.6 | 6687 | 28.3 | 3687 | 1.9 | 7118 |\n",
       "| Colorado   |  1986 | 61.3 | 1217 | 42.5 |  845 | 1.6 | 1349 | 32.3 |  642 | 1.9 | 1191 |\n",
       "| ⋮ | ⋮ | ⋮ | ⋮ | ⋮ | ⋮ | ⋮ | ⋮ | ⋮ | ⋮ | ⋮ | ⋮ |\n",
       "| Virginia      | 3017 | 53.4 | 1611 | 35.4 | 1069 | 1.6 | 1699 | 29.0 |  876 | 2.1 | 1855 |\n",
       "| Washington    | 2632 | 62.7 | 1649 | 36.3 |  954 | 1.7 | 1609 | 39.0 | 1028 | 1.8 | 1844 |\n",
       "| West Virginia |  765 | 62.1 |  475 | 45.8 |  350 | 1.8 |  648 | 38.1 |  291 | 2.2 |  628 |\n",
       "| Wisconsin     | 2350 | 57.5 | 1352 | 33.9 |  796 | 1.4 | 1138 | 33.0 |  776 | 1.9 | 1510 |\n",
       "| Wyoming       |  221 | 61.8 |  137 | 38.8 |   86 | 1.5 |  125 | 33.9 |   75 | 1.9 |  144 |\n",
       "\n"
      ],
      "text/plain": [
       "   Location      Number of Households (in 1000)\n",
       "1  Alabama        1828                         \n",
       "2  Arizona        2515                         \n",
       "3  Arkansas       1148                         \n",
       "4  California    12974                         \n",
       "5  Colorado       1986                         \n",
       "⋮  ⋮             ⋮                             \n",
       "45 Virginia      3017                          \n",
       "46 Washington    2632                          \n",
       "47 West Virginia  765                          \n",
       "48 Wisconsin     2350                          \n",
       "49 Wyoming        221                          \n",
       "   Percentage of households with pets Number of Pet Households (in 1000)\n",
       "1  59.5                               1088                              \n",
       "2  59.5                               1497                              \n",
       "3  62.4                                716                              \n",
       "4  52.9                               6865                              \n",
       "5  61.3                               1217                              \n",
       "⋮  ⋮                                  ⋮                                 \n",
       "45 53.4                               1611                              \n",
       "46 62.7                               1649                              \n",
       "47 62.1                                475                              \n",
       "48 57.5                               1352                              \n",
       "49 61.8                                137                              \n",
       "   Percentage of Dog Owners Dog Owning Households (1000s)\n",
       "1  44.1                      807                         \n",
       "2  40.1                     1008                         \n",
       "3  47.9                      550                         \n",
       "4  32.8                     4260                         \n",
       "5  42.5                      845                         \n",
       "⋮  ⋮                        ⋮                            \n",
       "45 35.4                     1069                         \n",
       "46 36.3                      954                         \n",
       "47 45.8                      350                         \n",
       "48 33.9                      796                         \n",
       "49 38.8                       86                         \n",
       "   Mean Number of Dogs per household Dog Population (in 1000)\n",
       "1  1.7                               1410                    \n",
       "2  1.8                               1798                    \n",
       "3  2.0                               1097                    \n",
       "4  1.6                               6687                    \n",
       "5  1.6                               1349                    \n",
       "⋮  ⋮                                 ⋮                       \n",
       "45 1.6                               1699                    \n",
       "46 1.7                               1609                    \n",
       "47 1.8                                648                    \n",
       "48 1.4                               1138                    \n",
       "49 1.5                                125                    \n",
       "   Percentage of Cat Owners Cat Owning Households Mean Number of Cats\n",
       "1  27.4                      501                  2.5                \n",
       "2  29.6                      743                  1.9                \n",
       "3  30.6                      351                  2.3                \n",
       "4  28.3                     3687                  1.9                \n",
       "5  32.3                      642                  1.9                \n",
       "⋮  ⋮                        ⋮                     ⋮                  \n",
       "45 29.0                      876                  2.1                \n",
       "46 39.0                     1028                  1.8                \n",
       "47 38.1                      291                  2.2                \n",
       "48 33.0                      776                  1.9                \n",
       "49 33.9                       75                  1.9                \n",
       "   Cat Population\n",
       "1  1252          \n",
       "2  1438          \n",
       "3   810          \n",
       "4  7118          \n",
       "5  1191          \n",
       "⋮  ⋮             \n",
       "45 1855          \n",
       "46 1844          \n",
       "47  628          \n",
       "48 1510          \n",
       "49  144          "
      ]
     },
     "metadata": {},
     "output_type": "display_data"
    }
   ],
   "source": [
    "url<-\"https://query.data.world/s/7ph2voz434cu5y3jwiqt6a57j2xf4n?dws=00000\"\n",
    "download.file(url, \"CatVsDog_Data\")\n",
    "CatVsDog_Data<- read_excel(\"CatVsDog_Data\")\n",
    "CatVsDog_Data"
   ]
  },
  {
   "cell_type": "code",
   "execution_count": null,
   "id": "376f0696-dbb9-4b6c-bb47-99966b1fd26b",
   "metadata": {},
   "outputs": [],
   "source": []
  }
 ],
 "metadata": {
  "kernelspec": {
   "display_name": "R",
   "language": "R",
   "name": "ir"
  },
  "language_info": {
   "codemirror_mode": "r",
   "file_extension": ".r",
   "mimetype": "text/x-r-source",
   "name": "R",
   "pygments_lexer": "r",
   "version": "4.3.1"
  }
 },
 "nbformat": 4,
 "nbformat_minor": 5
}
